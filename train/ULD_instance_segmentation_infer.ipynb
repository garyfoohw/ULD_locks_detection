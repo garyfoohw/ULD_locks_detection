{
 "cells": [
  {
   "cell_type": "markdown",
   "metadata": {
    "colab_type": "text",
    "id": "view-in-github"
   },
   "source": [
    "<a href=\"https://colab.research.google.com/github/garyfoohw/GA_ULD_detection/blob/main/ULD_instance_segmentation_notrain.ipynb\" target=\"_parent\"><img src=\"https://colab.research.google.com/assets/colab-badge.svg\" alt=\"Open In Colab\"/></a>"
   ]
  },
  {
   "cell_type": "code",
   "execution_count": null,
   "metadata": {
    "id": "CuOnhcAbiFMs"
   },
   "outputs": [],
   "source": [
    "#paramters\n",
    "task = \"segment\" #'segment' for instance segmentation, 'detect' for object detection\n",
    "modelfile=\"segment_yolov8n-seg_100epochs_uld_instance_seg_v6_20230209-115619.pt\"\n",
    "\n",
    "min_confidence_treshold=0.82\n",
    "save_crop_images=True\n",
    "save_original_with_bounding_box=True\n",
    "save_bounding_box_data=True"
   ]
  },
  {
   "cell_type": "code",
   "execution_count": null,
   "metadata": {
    "colab": {
     "base_uri": "https://localhost:8080/"
    },
    "id": "2mg9TDsONsaZ",
    "outputId": "51ccb1ad-1a09-4e56-e883-3c9b018f25ea"
   },
   "outputs": [],
   "source": [
    "from google.colab import drive, files\n",
    "drive.mount('/content/gdrive')"
   ]
  },
  {
   "cell_type": "code",
   "execution_count": null,
   "metadata": {
    "colab": {
     "base_uri": "https://localhost:8080/"
    },
    "id": "Y8cDtxLIBHgQ",
    "outputId": "098f9197-59b1-4cc4-8c71-0c443bd0ba17"
   },
   "outputs": [],
   "source": [
    "!nvidia-smi"
   ]
  },
  {
   "cell_type": "code",
   "execution_count": null,
   "metadata": {
    "id": "1895I3HmiHer"
   },
   "outputs": [],
   "source": [
    "!pip install ultralytics==8.0.29 roboflow\n",
    "from IPython import display\n",
    "display.clear_output()"
   ]
  },
  {
   "cell_type": "code",
   "execution_count": null,
   "metadata": {
    "id": "fidMW4ouU3uh"
   },
   "outputs": [],
   "source": [
    "import ultralytics, os, shutil, pytz\n",
    "from pathlib import Path\n",
    "from datetime import datetime\n",
    "from IPython.display import Image\n",
    "from ultralytics import YOLO\n",
    "from roboflow import Roboflow\n",
    "import matplotlib.pyplot as plt\n",
    "import pandas as pd"
   ]
  },
  {
   "cell_type": "code",
   "execution_count": null,
   "metadata": {
    "colab": {
     "base_uri": "https://localhost:8080/"
    },
    "id": "CjpPg4mGKc1v",
    "outputId": "66824e88-8b1b-4771-a16f-ca570e6d0e26"
   },
   "outputs": [],
   "source": [
    "ultralytics.checks()"
   ]
  },
  {
   "cell_type": "code",
   "execution_count": null,
   "metadata": {
    "id": "E4S4khCNiKnE"
   },
   "outputs": [],
   "source": [
    "HOME = os.getcwd()"
   ]
  },
  {
   "cell_type": "markdown",
   "metadata": {
    "id": "i4eASbcWkQBq"
   },
   "source": [
    "## Inference with Custom Model"
   ]
  },
  {
   "cell_type": "code",
   "execution_count": null,
   "metadata": {
    "colab": {
     "base_uri": "https://localhost:8080/"
    },
    "id": "Ol18IG9EGimn",
    "outputId": "9362707a-f9ae-429e-a5c1-e36fd0179731"
   },
   "outputs": [],
   "source": [
    "%cd {HOME}"
   ]
  },
  {
   "cell_type": "code",
   "execution_count": null,
   "metadata": {},
   "outputs": [],
   "source": [
    "!unzip -u {HOME}/gdrive/MyDrive/ULD/{source_zip} -d {HOME}/raw_uld_images/"
   ]
  },
  {
   "cell_type": "code",
   "execution_count": null,
   "metadata": {
    "colab": {
     "base_uri": "https://localhost:8080/"
    },
    "id": "SK7wSY_kGikP",
    "outputId": "b66dc989-570c-427e-f9f5-d41a34208540"
   },
   "outputs": [],
   "source": [
    "model = YOLO(os.path.join(HOME,\"gdrive\",\"MyDrive\",\"ULD\",modelfile))\n",
    "_=model.predict(task=task,source=os.path.join(HOME,\"raw_uld_images\"),\n",
    "                save_crop=save_crop_images,\n",
    "                conf=min_confidence_treshold,\n",
    "                save=save_original_with_bounding_box,\n",
    "                save_txt=save_bounding_box_data)"
   ]
  },
  {
   "cell_type": "code",
   "execution_count": null,
   "metadata": {
    "colab": {
     "base_uri": "https://localhost:8080/",
     "height": 655
    },
    "id": "kkZBTJx1Odxt",
    "outputId": "7e3bbd9f-5e8c-46ca-a216-2aa2ba5f3c24"
   },
   "outputs": [],
   "source": [
    "fn=modelfile.split('.')[0]\n",
    "!zip -r /{HOME}/gdrive/MyDrive/ULD/run_results/download_{fn}.zip  /{HOME}/runs/{task}/predict/\n",
    "\n",
    "print(f\"File saved to Google Drive: {fn}.zip\")"
   ]
  },
  {
   "cell_type": "code",
   "execution_count": null,
   "metadata": {
    "colab": {
     "base_uri": "https://localhost:8080/",
     "height": 1000
    },
    "id": "jbVjEtPAkz3j",
    "outputId": "4c5e5601-e8e5-4f17-95f3-3dd2d66e7c2a"
   },
   "outputs": [],
   "source": [
    "import glob\n",
    "from IPython.display import Image, display\n",
    "\n",
    "for image_path in glob.glob(f'{HOME}/runs/{task}/predict/crops/ULD/*.jpg'):\n",
    "      display(Image(filename=image_path, height=300))\n",
    "      print(\"\\n\")"
   ]
  }
 ],
 "metadata": {
  "accelerator": "GPU",
  "colab": {
   "include_colab_link": true,
   "provenance": []
  },
  "gpuClass": "premium",
  "kernelspec": {
   "display_name": "Python 3 (ipykernel)",
   "language": "python",
   "name": "python3"
  },
  "language_info": {
   "codemirror_mode": {
    "name": "ipython",
    "version": 3
   },
   "file_extension": ".py",
   "mimetype": "text/x-python",
   "name": "python",
   "nbconvert_exporter": "python",
   "pygments_lexer": "ipython3",
   "version": "3.9.12"
  }
 },
 "nbformat": 4,
 "nbformat_minor": 1
}
