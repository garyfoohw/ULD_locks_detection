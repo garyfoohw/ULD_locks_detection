{
 "cells": [
  {
   "cell_type": "code",
   "execution_count": null,
   "metadata": {
    "id": "Axbu5Wc6BjfU"
   },
   "outputs": [],
   "source": [
    "#paramters\n",
    "version = 6\n",
    "task = \"segment\" #'segment' for instance segmentation, 'detect' for object detection\n",
    "epochs=100 #training epochs\n",
    "yolo_pretrained_model=\"yolov8n-seg.pt\"\n",
    "project_name = \"uld_instance_seg\"\n",
    "api_key=input(\"Enter Roboflow API Key:\")"
   ]
  },
  {
   "cell_type": "code",
   "execution_count": null,
   "metadata": {
    "colab": {
     "base_uri": "https://localhost:8080/"
    },
    "id": "Y8cDtxLIBHgQ",
    "outputId": "16a8d36a-98a3-4197-90c9-0e6b4c0c360e"
   },
   "outputs": [],
   "source": [
    "!nvidia-smi"
   ]
  },
  {
   "cell_type": "code",
   "execution_count": null,
   "metadata": {
    "id": "ExHv6g99S5K1"
   },
   "outputs": [],
   "source": [
    "!pip install ultralytics==8.0.29 roboflow\n",
    "from IPython import display\n",
    "display.clear_output()"
   ]
  },
  {
   "cell_type": "code",
   "execution_count": null,
   "metadata": {
    "id": "fidMW4ouU3uh"
   },
   "outputs": [],
   "source": [
    "import ultralytics, os, shutil, pytz\n",
    "from pathlib import Path\n",
    "from datetime import datetime\n",
    "from IPython.display import Image\n",
    "from google.colab import drive\n",
    "from ultralytics import YOLO\n",
    "from roboflow import Roboflow\n",
    "import matplotlib.pyplot as plt\n",
    "import pandas as pd"
   ]
  },
  {
   "cell_type": "code",
   "execution_count": null,
   "metadata": {
    "colab": {
     "base_uri": "https://localhost:8080/"
    },
    "id": "03ZdUFDzTFdd",
    "outputId": "6d5ff0f4-1c59-4d27-a465-b56ca19e00de"
   },
   "outputs": [],
   "source": [
    "ultralytics.checks()"
   ]
  },
  {
   "cell_type": "code",
   "execution_count": null,
   "metadata": {
    "colab": {
     "base_uri": "https://localhost:8080/"
    },
    "id": "Nz5DSWwGTBcs",
    "outputId": "841a0233-9bda-4a85-da99-06745315e716"
   },
   "outputs": [],
   "source": [
    "drive.mount('/content/gdrive')"
   ]
  },
  {
   "cell_type": "code",
   "execution_count": null,
   "metadata": {
    "id": "CjpPg4mGKc1v"
   },
   "outputs": [],
   "source": [
    "HOME = os.getcwd()"
   ]
  },
  {
   "cell_type": "code",
   "execution_count": null,
   "metadata": {
    "colab": {
     "base_uri": "https://localhost:8080/"
    },
    "id": "BSd93ZJzZZKt",
    "outputId": "77d9d0af-b703-4d4d-a210-9520685d4f47"
   },
   "outputs": [],
   "source": [
    "!mkdir {HOME}/datasets\n",
    "%cd {HOME}/datasets\n",
    "\n",
    "rf = Roboflow(api_key=api_key)\n",
    "project = rf.workspace(\"uld-ttkny\").project(project_name)\n",
    "dataset = project.version(version).download(\"yolov8\")"
   ]
  },
  {
   "cell_type": "markdown",
   "metadata": {
    "id": "YUjFBKKqXa-u"
   },
   "source": [
    "## Train"
   ]
  },
  {
   "cell_type": "code",
   "execution_count": null,
   "metadata": {
    "colab": {
     "base_uri": "https://localhost:8080/",
     "height": 1000,
     "referenced_widgets": [
      "b7e385c4663f4725aec16d3296cf75eb",
      "13245a5ac4ce4754afdc97774cee698f",
      "45abaf9de4e6482897c3d078f962b129",
      "59c26d0efe3145b8ac49a73640267f0f",
      "e163049a17b743bb9eba219fad7d1ba1",
      "6d1f25e04a554ad9bd9cefeaf09b8a36",
      "41a9ee4135e54ac49a810b82dab21659",
      "7a03f64899d04c78a787b38efdf91e89",
      "176eacaa04bb4ca98f7b5ff2f99095a2",
      "5441f6e15ca743609e8d13ff3f0705e5",
      "9b88398b8f9c417898fd325aa6ac2d54",
      "364e2706dbef400ca1bf10bc3861a79f",
      "32bb0f4c51f0491092947f9fe413ec3d",
      "cf39577e54ff45e19564e6aa903ce4a5",
      "2ad3e761c2a147a4beff04742690af26",
      "592c2198824347c79112ca86141ede72",
      "44a0aa944b6b4b85be2ab0b90e313933",
      "74269a65884d4f73ac2dfa816d9e12d9",
      "353c5f08e0b045788e861c9960c98b4e",
      "7ff2f5e0f3ea4aab980e20f4bdfc2f1a",
      "0940e533acdb4eb7a960a0c293d81840",
      "d453abf3b47240e3900d28903844400f"
     ]
    },
    "id": "cpvwtmP1EOJ4",
    "outputId": "21ebe5fa-b863-4ab4-b230-997710c882ed"
   },
   "outputs": [],
   "source": [
    "%cd {HOME}\n",
    "\n",
    "model=YOLO(yolo_pretrained_model)\n",
    "model.train(task=task,data=os.path.join(dataset.location,\"data.yaml\"),epochs=epochs,imgsz=640)"
   ]
  },
  {
   "cell_type": "code",
   "execution_count": null,
   "metadata": {
    "colab": {
     "base_uri": "https://localhost:8080/",
     "height": 36
    },
    "id": "uDBlu_1ZVR5G",
    "outputId": "6f22117b-ca33-46d9-e1e5-9ccd375cb1b4"
   },
   "outputs": [],
   "source": [
    "#Copy best.pt to google drive\n",
    "\n",
    "dt_now=datetime.now().astimezone(pytz.timezone('Asia/Singapore')).strftime(\"%Y%m%d-%H%M%S\")\n",
    "fn=f\"{task}_{yolo_pretrained_model.split('.')[0]}_{epochs}epochs_{project_name}_v{version}_{dt_now}\"\n",
    "\n",
    "shutil.copy(f\"/content/runs/{task}/train/weights/best.pt\",\n",
    "            f\"/content/gdrive/MyDrive/ULD/{fn}.pt\")\n",
    "\n",
    "#Copy performance metrics of best.pt to google drive\n",
    "\n",
    "shutil.copy(f\"/content/runs/{task}/train/results.csv\",\n",
    "            f\"/content/gdrive/MyDrive/ULD/results_{fn}.csv\")"
   ]
  },
  {
   "cell_type": "markdown",
   "metadata": {
    "id": "1c-YynmpTZrJ"
   },
   "source": [
    "Look at train directory created"
   ]
  },
  {
   "cell_type": "code",
   "execution_count": null,
   "metadata": {
    "colab": {
     "base_uri": "https://localhost:8080/"
    },
    "id": "1MScstfHhArr",
    "outputId": "fb819d5a-dab1-4a84-fbc9-e071d8abc906"
   },
   "outputs": [],
   "source": [
    "!ls {HOME}/runs/{task}/train/"
   ]
  },
  {
   "cell_type": "markdown",
   "metadata": {
    "id": "nuLU4soyTdmJ"
   },
   "source": [
    "Look at confusion matrix of train."
   ]
  },
  {
   "cell_type": "code",
   "execution_count": null,
   "metadata": {
    "colab": {
     "base_uri": "https://localhost:8080/"
    },
    "id": "_J35i8Ofhjxa",
    "outputId": "92fc6d33-f9be-4b18-d680-753f245f2d23"
   },
   "outputs": [],
   "source": [
    "%cd {HOME}\n",
    "try:\n",
    "  Image(filename=f'{HOME}/runs/{task}/train/confusion_matrix.png', width=600)\n",
    "except:\n",
    "  pass"
   ]
  },
  {
   "cell_type": "code",
   "execution_count": null,
   "metadata": {
    "id": "NVTs1R1Efm6h"
   },
   "outputs": [],
   "source": [
    "#adapted from YOLOv5\n",
    "#adapter for segmentation more columns\n",
    "\n",
    "def plot_results(file='path/to/results.csv', dir=''):\n",
    "    # Plot training results.csv. Usage: from utils.plots import *; plot_results('path/to/results.csv')\n",
    "    save_dir = Path(file).parent if file else Path(dir)\n",
    "    fig, ax = plt.subplots(4, 4, figsize=(12, 12), tight_layout=True)\n",
    "    ax = ax.ravel()\n",
    "    files = list(save_dir.glob('results*.csv'))\n",
    "    assert len(files), f'No results.csv files found in {save_dir.resolve()}, nothing to plot.'\n",
    "    for f in files:\n",
    "        try:\n",
    "            data = pd.read_csv(f)\n",
    "            s = [x.strip() for x in data.columns]\n",
    "            x = data.values[:, 0]\n",
    "            # for i, j in enumerate([1, 2, 3, 4, 5, 8, 9, 10, 6, 7]):\n",
    "            for i, j in enumerate([1, 2, 3, 4, 13, 14, 15, 16, 5, 6, 7, 8, 9, 10, 11, 12]):\n",
    "                y = data.values[:, j].astype('float')\n",
    "                # y[y == 0] = np.nan  # don't show zero values\n",
    "                ax[i].plot(x, y, marker='.', label=f.stem, linewidth=2, markersize=8)\n",
    "                ax[i].set_title(s[j], fontsize=12)\n",
    "                # if j in [8, 9, 10]:  # share train and val loss y axes\n",
    "                #     ax[i].get_shared_y_axes().join(ax[i], ax[i - 5])\n",
    "        except Exception as e:\n",
    "            print(f'Warning: Plotting error for {f}: {e}')\n",
    "    ax[1].legend()\n",
    "    fig.savefig(save_dir / 'results.png', dpi=200)\n",
    "    plt.close()"
   ]
  },
  {
   "cell_type": "markdown",
   "metadata": {
    "id": "YVVwONqkTm8q"
   },
   "source": [
    "Show training performance"
   ]
  },
  {
   "cell_type": "code",
   "execution_count": null,
   "metadata": {
    "colab": {
     "base_uri": "https://localhost:8080/",
     "height": 1000
    },
    "id": "ZYWirHoXOqFn",
    "outputId": "c3247728-e521-4ea0-b964-635326aa8e9a"
   },
   "outputs": [],
   "source": [
    "plot_results(f'{HOME}/runs/{task}/train/results.csv')\n",
    "Image(filename=f'{HOME}/runs/{task}/train/results.png', width=1000)"
   ]
  },
  {
   "cell_type": "markdown",
   "metadata": {
    "id": "fGUHH57yTpaq"
   },
   "source": [
    "Show some training segmentation results images."
   ]
  },
  {
   "cell_type": "code",
   "execution_count": null,
   "metadata": {
    "colab": {
     "base_uri": "https://localhost:8080/"
    },
    "id": "HI4nADCCj3F5",
    "outputId": "2c59116b-f1f8-438e-dcc7-d72ee6074cfd"
   },
   "outputs": [],
   "source": [
    "%cd {HOME}\n",
    "try:\n",
    "  Image(filename=f'{HOME}/runs/{task}/train/train_batch.jpg', width=600)\n",
    "except:\n",
    "  pass"
   ]
  },
  {
   "cell_type": "markdown",
   "metadata": {
    "id": "i4eASbcWkQBq"
   },
   "source": [
    "## Inference"
   ]
  },
  {
   "cell_type": "code",
   "execution_count": null,
   "metadata": {
    "colab": {
     "base_uri": "https://localhost:8080/"
    },
    "id": "SK7wSY_kGikP",
    "outputId": "b945ff41-463a-4d11-a818-b1d9f45a6f01"
   },
   "outputs": [],
   "source": [
    "%cd {HOME}\n",
    "\n",
    "model = YOLO(os.path.join(HOME,\"runs\",task,\"train\",\"weights\",\"best.pt\"))\n",
    "_=model.predict(task=task,source=os.path.join(dataset.location,\"test\",\"images\"), save_crop=True)"
   ]
  },
  {
   "cell_type": "markdown",
   "metadata": {
    "id": "tDZ7LLNdUcyD"
   },
   "source": [
    "Look at the images."
   ]
  },
  {
   "cell_type": "code",
   "execution_count": null,
   "metadata": {
    "colab": {
     "base_uri": "https://localhost:8080/",
     "height": 1000
    },
    "id": "jbVjEtPAkz3j",
    "outputId": "8674f48c-6f30-4b02-e103-37be9f069c87"
   },
   "outputs": [],
   "source": [
    "import glob\n",
    "from IPython.display import Image, display\n",
    "\n",
    "for image_path in glob.glob(f'{HOME}/runs/{task}/predict/crops/ULD/*.jpg'):\n",
    "      display(Image(filename=image_path, height=300))\n",
    "      print(\"\\n\")"
   ]
  }
 ],
 "metadata": {
  "accelerator": "GPU",
  "colab": {
   "provenance": []
  },
  "gpuClass": "premium",
  "kernelspec": {
   "display_name": "Python 3 (ipykernel)",
   "language": "python",
   "name": "python3"
  },
  "language_info": {
   "codemirror_mode": {
    "name": "ipython",
    "version": 3
   },
   "file_extension": ".py",
   "mimetype": "text/x-python",
   "name": "python",
   "nbconvert_exporter": "python",
   "pygments_lexer": "ipython3",
   "version": "3.9.12"
  },
  "widgets": {
   "application/vnd.jupyter.widget-state+json": {
    "0940e533acdb4eb7a960a0c293d81840": {
     "model_module": "@jupyter-widgets/base",
     "model_module_version": "1.2.0",
     "model_name": "LayoutModel",
     "state": {
      "_model_module": "@jupyter-widgets/base",
      "_model_module_version": "1.2.0",
      "_model_name": "LayoutModel",
      "_view_count": null,
      "_view_module": "@jupyter-widgets/base",
      "_view_module_version": "1.2.0",
      "_view_name": "LayoutView",
      "align_content": null,
      "align_items": null,
      "align_self": null,
      "border": null,
      "bottom": null,
      "display": null,
      "flex": null,
      "flex_flow": null,
      "grid_area": null,
      "grid_auto_columns": null,
      "grid_auto_flow": null,
      "grid_auto_rows": null,
      "grid_column": null,
      "grid_gap": null,
      "grid_row": null,
      "grid_template_areas": null,
      "grid_template_columns": null,
      "grid_template_rows": null,
      "height": null,
      "justify_content": null,
      "justify_items": null,
      "left": null,
      "margin": null,
      "max_height": null,
      "max_width": null,
      "min_height": null,
      "min_width": null,
      "object_fit": null,
      "object_position": null,
      "order": null,
      "overflow": null,
      "overflow_x": null,
      "overflow_y": null,
      "padding": null,
      "right": null,
      "top": null,
      "visibility": null,
      "width": null
     }
    },
    "13245a5ac4ce4754afdc97774cee698f": {
     "model_module": "@jupyter-widgets/controls",
     "model_module_version": "1.5.0",
     "model_name": "HTMLModel",
     "state": {
      "_dom_classes": [],
      "_model_module": "@jupyter-widgets/controls",
      "_model_module_version": "1.5.0",
      "_model_name": "HTMLModel",
      "_view_count": null,
      "_view_module": "@jupyter-widgets/controls",
      "_view_module_version": "1.5.0",
      "_view_name": "HTMLView",
      "description": "",
      "description_tooltip": null,
      "layout": "IPY_MODEL_6d1f25e04a554ad9bd9cefeaf09b8a36",
      "placeholder": "​",
      "style": "IPY_MODEL_41a9ee4135e54ac49a810b82dab21659",
      "value": "100%"
     }
    },
    "176eacaa04bb4ca98f7b5ff2f99095a2": {
     "model_module": "@jupyter-widgets/controls",
     "model_module_version": "1.5.0",
     "model_name": "ProgressStyleModel",
     "state": {
      "_model_module": "@jupyter-widgets/controls",
      "_model_module_version": "1.5.0",
      "_model_name": "ProgressStyleModel",
      "_view_count": null,
      "_view_module": "@jupyter-widgets/base",
      "_view_module_version": "1.2.0",
      "_view_name": "StyleView",
      "bar_color": null,
      "description_width": ""
     }
    },
    "2ad3e761c2a147a4beff04742690af26": {
     "model_module": "@jupyter-widgets/controls",
     "model_module_version": "1.5.0",
     "model_name": "HTMLModel",
     "state": {
      "_dom_classes": [],
      "_model_module": "@jupyter-widgets/controls",
      "_model_module_version": "1.5.0",
      "_model_name": "HTMLModel",
      "_view_count": null,
      "_view_module": "@jupyter-widgets/controls",
      "_view_module_version": "1.5.0",
      "_view_name": "HTMLView",
      "description": "",
      "description_tooltip": null,
      "layout": "IPY_MODEL_0940e533acdb4eb7a960a0c293d81840",
      "placeholder": "​",
      "style": "IPY_MODEL_d453abf3b47240e3900d28903844400f",
      "value": " 755k/755k [00:00&lt;00:00, 53.4kB/s]"
     }
    },
    "32bb0f4c51f0491092947f9fe413ec3d": {
     "model_module": "@jupyter-widgets/controls",
     "model_module_version": "1.5.0",
     "model_name": "HTMLModel",
     "state": {
      "_dom_classes": [],
      "_model_module": "@jupyter-widgets/controls",
      "_model_module_version": "1.5.0",
      "_model_name": "HTMLModel",
      "_view_count": null,
      "_view_module": "@jupyter-widgets/controls",
      "_view_module_version": "1.5.0",
      "_view_name": "HTMLView",
      "description": "",
      "description_tooltip": null,
      "layout": "IPY_MODEL_44a0aa944b6b4b85be2ab0b90e313933",
      "placeholder": "​",
      "style": "IPY_MODEL_74269a65884d4f73ac2dfa816d9e12d9",
      "value": "100%"
     }
    },
    "353c5f08e0b045788e861c9960c98b4e": {
     "model_module": "@jupyter-widgets/base",
     "model_module_version": "1.2.0",
     "model_name": "LayoutModel",
     "state": {
      "_model_module": "@jupyter-widgets/base",
      "_model_module_version": "1.2.0",
      "_model_name": "LayoutModel",
      "_view_count": null,
      "_view_module": "@jupyter-widgets/base",
      "_view_module_version": "1.2.0",
      "_view_name": "LayoutView",
      "align_content": null,
      "align_items": null,
      "align_self": null,
      "border": null,
      "bottom": null,
      "display": null,
      "flex": null,
      "flex_flow": null,
      "grid_area": null,
      "grid_auto_columns": null,
      "grid_auto_flow": null,
      "grid_auto_rows": null,
      "grid_column": null,
      "grid_gap": null,
      "grid_row": null,
      "grid_template_areas": null,
      "grid_template_columns": null,
      "grid_template_rows": null,
      "height": null,
      "justify_content": null,
      "justify_items": null,
      "left": null,
      "margin": null,
      "max_height": null,
      "max_width": null,
      "min_height": null,
      "min_width": null,
      "object_fit": null,
      "object_position": null,
      "order": null,
      "overflow": null,
      "overflow_x": null,
      "overflow_y": null,
      "padding": null,
      "right": null,
      "top": null,
      "visibility": null,
      "width": null
     }
    },
    "364e2706dbef400ca1bf10bc3861a79f": {
     "model_module": "@jupyter-widgets/controls",
     "model_module_version": "1.5.0",
     "model_name": "HBoxModel",
     "state": {
      "_dom_classes": [],
      "_model_module": "@jupyter-widgets/controls",
      "_model_module_version": "1.5.0",
      "_model_name": "HBoxModel",
      "_view_count": null,
      "_view_module": "@jupyter-widgets/controls",
      "_view_module_version": "1.5.0",
      "_view_name": "HBoxView",
      "box_style": "",
      "children": [
       "IPY_MODEL_32bb0f4c51f0491092947f9fe413ec3d",
       "IPY_MODEL_cf39577e54ff45e19564e6aa903ce4a5",
       "IPY_MODEL_2ad3e761c2a147a4beff04742690af26"
      ],
      "layout": "IPY_MODEL_592c2198824347c79112ca86141ede72"
     }
    },
    "41a9ee4135e54ac49a810b82dab21659": {
     "model_module": "@jupyter-widgets/controls",
     "model_module_version": "1.5.0",
     "model_name": "DescriptionStyleModel",
     "state": {
      "_model_module": "@jupyter-widgets/controls",
      "_model_module_version": "1.5.0",
      "_model_name": "DescriptionStyleModel",
      "_view_count": null,
      "_view_module": "@jupyter-widgets/base",
      "_view_module_version": "1.2.0",
      "_view_name": "StyleView",
      "description_width": ""
     }
    },
    "44a0aa944b6b4b85be2ab0b90e313933": {
     "model_module": "@jupyter-widgets/base",
     "model_module_version": "1.2.0",
     "model_name": "LayoutModel",
     "state": {
      "_model_module": "@jupyter-widgets/base",
      "_model_module_version": "1.2.0",
      "_model_name": "LayoutModel",
      "_view_count": null,
      "_view_module": "@jupyter-widgets/base",
      "_view_module_version": "1.2.0",
      "_view_name": "LayoutView",
      "align_content": null,
      "align_items": null,
      "align_self": null,
      "border": null,
      "bottom": null,
      "display": null,
      "flex": null,
      "flex_flow": null,
      "grid_area": null,
      "grid_auto_columns": null,
      "grid_auto_flow": null,
      "grid_auto_rows": null,
      "grid_column": null,
      "grid_gap": null,
      "grid_row": null,
      "grid_template_areas": null,
      "grid_template_columns": null,
      "grid_template_rows": null,
      "height": null,
      "justify_content": null,
      "justify_items": null,
      "left": null,
      "margin": null,
      "max_height": null,
      "max_width": null,
      "min_height": null,
      "min_width": null,
      "object_fit": null,
      "object_position": null,
      "order": null,
      "overflow": null,
      "overflow_x": null,
      "overflow_y": null,
      "padding": null,
      "right": null,
      "top": null,
      "visibility": null,
      "width": null
     }
    },
    "45abaf9de4e6482897c3d078f962b129": {
     "model_module": "@jupyter-widgets/controls",
     "model_module_version": "1.5.0",
     "model_name": "FloatProgressModel",
     "state": {
      "_dom_classes": [],
      "_model_module": "@jupyter-widgets/controls",
      "_model_module_version": "1.5.0",
      "_model_name": "FloatProgressModel",
      "_view_count": null,
      "_view_module": "@jupyter-widgets/controls",
      "_view_module_version": "1.5.0",
      "_view_name": "ProgressView",
      "bar_style": "success",
      "description": "",
      "description_tooltip": null,
      "layout": "IPY_MODEL_7a03f64899d04c78a787b38efdf91e89",
      "max": 7054355,
      "min": 0,
      "orientation": "horizontal",
      "style": "IPY_MODEL_176eacaa04bb4ca98f7b5ff2f99095a2",
      "value": 7054355
     }
    },
    "5441f6e15ca743609e8d13ff3f0705e5": {
     "model_module": "@jupyter-widgets/base",
     "model_module_version": "1.2.0",
     "model_name": "LayoutModel",
     "state": {
      "_model_module": "@jupyter-widgets/base",
      "_model_module_version": "1.2.0",
      "_model_name": "LayoutModel",
      "_view_count": null,
      "_view_module": "@jupyter-widgets/base",
      "_view_module_version": "1.2.0",
      "_view_name": "LayoutView",
      "align_content": null,
      "align_items": null,
      "align_self": null,
      "border": null,
      "bottom": null,
      "display": null,
      "flex": null,
      "flex_flow": null,
      "grid_area": null,
      "grid_auto_columns": null,
      "grid_auto_flow": null,
      "grid_auto_rows": null,
      "grid_column": null,
      "grid_gap": null,
      "grid_row": null,
      "grid_template_areas": null,
      "grid_template_columns": null,
      "grid_template_rows": null,
      "height": null,
      "justify_content": null,
      "justify_items": null,
      "left": null,
      "margin": null,
      "max_height": null,
      "max_width": null,
      "min_height": null,
      "min_width": null,
      "object_fit": null,
      "object_position": null,
      "order": null,
      "overflow": null,
      "overflow_x": null,
      "overflow_y": null,
      "padding": null,
      "right": null,
      "top": null,
      "visibility": null,
      "width": null
     }
    },
    "592c2198824347c79112ca86141ede72": {
     "model_module": "@jupyter-widgets/base",
     "model_module_version": "1.2.0",
     "model_name": "LayoutModel",
     "state": {
      "_model_module": "@jupyter-widgets/base",
      "_model_module_version": "1.2.0",
      "_model_name": "LayoutModel",
      "_view_count": null,
      "_view_module": "@jupyter-widgets/base",
      "_view_module_version": "1.2.0",
      "_view_name": "LayoutView",
      "align_content": null,
      "align_items": null,
      "align_self": null,
      "border": null,
      "bottom": null,
      "display": null,
      "flex": null,
      "flex_flow": null,
      "grid_area": null,
      "grid_auto_columns": null,
      "grid_auto_flow": null,
      "grid_auto_rows": null,
      "grid_column": null,
      "grid_gap": null,
      "grid_row": null,
      "grid_template_areas": null,
      "grid_template_columns": null,
      "grid_template_rows": null,
      "height": null,
      "justify_content": null,
      "justify_items": null,
      "left": null,
      "margin": null,
      "max_height": null,
      "max_width": null,
      "min_height": null,
      "min_width": null,
      "object_fit": null,
      "object_position": null,
      "order": null,
      "overflow": null,
      "overflow_x": null,
      "overflow_y": null,
      "padding": null,
      "right": null,
      "top": null,
      "visibility": null,
      "width": null
     }
    },
    "59c26d0efe3145b8ac49a73640267f0f": {
     "model_module": "@jupyter-widgets/controls",
     "model_module_version": "1.5.0",
     "model_name": "HTMLModel",
     "state": {
      "_dom_classes": [],
      "_model_module": "@jupyter-widgets/controls",
      "_model_module_version": "1.5.0",
      "_model_name": "HTMLModel",
      "_view_count": null,
      "_view_module": "@jupyter-widgets/controls",
      "_view_module_version": "1.5.0",
      "_view_name": "HTMLView",
      "description": "",
      "description_tooltip": null,
      "layout": "IPY_MODEL_5441f6e15ca743609e8d13ff3f0705e5",
      "placeholder": "​",
      "style": "IPY_MODEL_9b88398b8f9c417898fd325aa6ac2d54",
      "value": " 6.73M/6.73M [00:01&lt;00:00, 6.67MB/s]"
     }
    },
    "6d1f25e04a554ad9bd9cefeaf09b8a36": {
     "model_module": "@jupyter-widgets/base",
     "model_module_version": "1.2.0",
     "model_name": "LayoutModel",
     "state": {
      "_model_module": "@jupyter-widgets/base",
      "_model_module_version": "1.2.0",
      "_model_name": "LayoutModel",
      "_view_count": null,
      "_view_module": "@jupyter-widgets/base",
      "_view_module_version": "1.2.0",
      "_view_name": "LayoutView",
      "align_content": null,
      "align_items": null,
      "align_self": null,
      "border": null,
      "bottom": null,
      "display": null,
      "flex": null,
      "flex_flow": null,
      "grid_area": null,
      "grid_auto_columns": null,
      "grid_auto_flow": null,
      "grid_auto_rows": null,
      "grid_column": null,
      "grid_gap": null,
      "grid_row": null,
      "grid_template_areas": null,
      "grid_template_columns": null,
      "grid_template_rows": null,
      "height": null,
      "justify_content": null,
      "justify_items": null,
      "left": null,
      "margin": null,
      "max_height": null,
      "max_width": null,
      "min_height": null,
      "min_width": null,
      "object_fit": null,
      "object_position": null,
      "order": null,
      "overflow": null,
      "overflow_x": null,
      "overflow_y": null,
      "padding": null,
      "right": null,
      "top": null,
      "visibility": null,
      "width": null
     }
    },
    "74269a65884d4f73ac2dfa816d9e12d9": {
     "model_module": "@jupyter-widgets/controls",
     "model_module_version": "1.5.0",
     "model_name": "DescriptionStyleModel",
     "state": {
      "_model_module": "@jupyter-widgets/controls",
      "_model_module_version": "1.5.0",
      "_model_name": "DescriptionStyleModel",
      "_view_count": null,
      "_view_module": "@jupyter-widgets/base",
      "_view_module_version": "1.2.0",
      "_view_name": "StyleView",
      "description_width": ""
     }
    },
    "7a03f64899d04c78a787b38efdf91e89": {
     "model_module": "@jupyter-widgets/base",
     "model_module_version": "1.2.0",
     "model_name": "LayoutModel",
     "state": {
      "_model_module": "@jupyter-widgets/base",
      "_model_module_version": "1.2.0",
      "_model_name": "LayoutModel",
      "_view_count": null,
      "_view_module": "@jupyter-widgets/base",
      "_view_module_version": "1.2.0",
      "_view_name": "LayoutView",
      "align_content": null,
      "align_items": null,
      "align_self": null,
      "border": null,
      "bottom": null,
      "display": null,
      "flex": null,
      "flex_flow": null,
      "grid_area": null,
      "grid_auto_columns": null,
      "grid_auto_flow": null,
      "grid_auto_rows": null,
      "grid_column": null,
      "grid_gap": null,
      "grid_row": null,
      "grid_template_areas": null,
      "grid_template_columns": null,
      "grid_template_rows": null,
      "height": null,
      "justify_content": null,
      "justify_items": null,
      "left": null,
      "margin": null,
      "max_height": null,
      "max_width": null,
      "min_height": null,
      "min_width": null,
      "object_fit": null,
      "object_position": null,
      "order": null,
      "overflow": null,
      "overflow_x": null,
      "overflow_y": null,
      "padding": null,
      "right": null,
      "top": null,
      "visibility": null,
      "width": null
     }
    },
    "7ff2f5e0f3ea4aab980e20f4bdfc2f1a": {
     "model_module": "@jupyter-widgets/controls",
     "model_module_version": "1.5.0",
     "model_name": "ProgressStyleModel",
     "state": {
      "_model_module": "@jupyter-widgets/controls",
      "_model_module_version": "1.5.0",
      "_model_name": "ProgressStyleModel",
      "_view_count": null,
      "_view_module": "@jupyter-widgets/base",
      "_view_module_version": "1.2.0",
      "_view_name": "StyleView",
      "bar_color": null,
      "description_width": ""
     }
    },
    "9b88398b8f9c417898fd325aa6ac2d54": {
     "model_module": "@jupyter-widgets/controls",
     "model_module_version": "1.5.0",
     "model_name": "DescriptionStyleModel",
     "state": {
      "_model_module": "@jupyter-widgets/controls",
      "_model_module_version": "1.5.0",
      "_model_name": "DescriptionStyleModel",
      "_view_count": null,
      "_view_module": "@jupyter-widgets/base",
      "_view_module_version": "1.2.0",
      "_view_name": "StyleView",
      "description_width": ""
     }
    },
    "b7e385c4663f4725aec16d3296cf75eb": {
     "model_module": "@jupyter-widgets/controls",
     "model_module_version": "1.5.0",
     "model_name": "HBoxModel",
     "state": {
      "_dom_classes": [],
      "_model_module": "@jupyter-widgets/controls",
      "_model_module_version": "1.5.0",
      "_model_name": "HBoxModel",
      "_view_count": null,
      "_view_module": "@jupyter-widgets/controls",
      "_view_module_version": "1.5.0",
      "_view_name": "HBoxView",
      "box_style": "",
      "children": [
       "IPY_MODEL_13245a5ac4ce4754afdc97774cee698f",
       "IPY_MODEL_45abaf9de4e6482897c3d078f962b129",
       "IPY_MODEL_59c26d0efe3145b8ac49a73640267f0f"
      ],
      "layout": "IPY_MODEL_e163049a17b743bb9eba219fad7d1ba1"
     }
    },
    "cf39577e54ff45e19564e6aa903ce4a5": {
     "model_module": "@jupyter-widgets/controls",
     "model_module_version": "1.5.0",
     "model_name": "FloatProgressModel",
     "state": {
      "_dom_classes": [],
      "_model_module": "@jupyter-widgets/controls",
      "_model_module_version": "1.5.0",
      "_model_name": "FloatProgressModel",
      "_view_count": null,
      "_view_module": "@jupyter-widgets/controls",
      "_view_module_version": "1.5.0",
      "_view_name": "ProgressView",
      "bar_style": "success",
      "description": "",
      "description_tooltip": null,
      "layout": "IPY_MODEL_353c5f08e0b045788e861c9960c98b4e",
      "max": 773236,
      "min": 0,
      "orientation": "horizontal",
      "style": "IPY_MODEL_7ff2f5e0f3ea4aab980e20f4bdfc2f1a",
      "value": 773236
     }
    },
    "d453abf3b47240e3900d28903844400f": {
     "model_module": "@jupyter-widgets/controls",
     "model_module_version": "1.5.0",
     "model_name": "DescriptionStyleModel",
     "state": {
      "_model_module": "@jupyter-widgets/controls",
      "_model_module_version": "1.5.0",
      "_model_name": "DescriptionStyleModel",
      "_view_count": null,
      "_view_module": "@jupyter-widgets/base",
      "_view_module_version": "1.2.0",
      "_view_name": "StyleView",
      "description_width": ""
     }
    },
    "e163049a17b743bb9eba219fad7d1ba1": {
     "model_module": "@jupyter-widgets/base",
     "model_module_version": "1.2.0",
     "model_name": "LayoutModel",
     "state": {
      "_model_module": "@jupyter-widgets/base",
      "_model_module_version": "1.2.0",
      "_model_name": "LayoutModel",
      "_view_count": null,
      "_view_module": "@jupyter-widgets/base",
      "_view_module_version": "1.2.0",
      "_view_name": "LayoutView",
      "align_content": null,
      "align_items": null,
      "align_self": null,
      "border": null,
      "bottom": null,
      "display": null,
      "flex": null,
      "flex_flow": null,
      "grid_area": null,
      "grid_auto_columns": null,
      "grid_auto_flow": null,
      "grid_auto_rows": null,
      "grid_column": null,
      "grid_gap": null,
      "grid_row": null,
      "grid_template_areas": null,
      "grid_template_columns": null,
      "grid_template_rows": null,
      "height": null,
      "justify_content": null,
      "justify_items": null,
      "left": null,
      "margin": null,
      "max_height": null,
      "max_width": null,
      "min_height": null,
      "min_width": null,
      "object_fit": null,
      "object_position": null,
      "order": null,
      "overflow": null,
      "overflow_x": null,
      "overflow_y": null,
      "padding": null,
      "right": null,
      "top": null,
      "visibility": null,
      "width": null
     }
    }
   }
  }
 },
 "nbformat": 4,
 "nbformat_minor": 1
}
