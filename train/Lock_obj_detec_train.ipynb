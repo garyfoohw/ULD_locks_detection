{
 "cells": [
  {
   "cell_type": "markdown",
   "metadata": {
    "colab_type": "text",
    "id": "view-in-github"
   },
   "source": [
    "<a href=\"https://colab.research.google.com/github/garyfoohw/GA_ULD_detection/blob/main/Lock_obj_detect.ipynb\" target=\"_parent\"><img src=\"https://colab.research.google.com/assets/colab-badge.svg\" alt=\"Open In Colab\"/></a>"
   ]
  },
  {
   "cell_type": "code",
   "execution_count": null,
   "metadata": {
    "id": "bvsZLjj9Rhru"
   },
   "outputs": [],
   "source": [
    "#paramters\n",
    "version = 3 #version of roboflow dataset. Latest 4 for segmentation, 5 for object detection\n",
    "task = \"detect\" #'segment' for instance segmentation, 'detect' for object detection\n",
    "epochs=100 #training epochs\n",
    "yolo_pretrained_model=\"yolov8n.pt\"\n",
    "project_name = \"uld_locks_cropped\"\n",
    "api_key=input(\"Enter Roboflow API Key:\")"
   ]
  },
  {
   "cell_type": "code",
   "execution_count": null,
   "metadata": {
    "colab": {
     "base_uri": "https://localhost:8080/"
    },
    "id": "1xp5P3pGD6Pc",
    "outputId": "5d330519-fe1c-4331-d6bc-dee5e656d8a8"
   },
   "outputs": [],
   "source": [
    "from google.colab import drive\n",
    "drive.mount('/content/gdrive')"
   ]
  },
  {
   "cell_type": "code",
   "execution_count": null,
   "metadata": {
    "colab": {
     "base_uri": "https://localhost:8080/"
    },
    "id": "Y8cDtxLIBHgQ",
    "outputId": "a5afe7d3-4407-4783-dce3-9e7fbd729c03"
   },
   "outputs": [],
   "source": [
    "!nvidia-smi"
   ]
  },
  {
   "cell_type": "code",
   "execution_count": null,
   "metadata": {
    "id": "ExHv6g99S5K1"
   },
   "outputs": [],
   "source": [
    "!pip install ultralytics==8.0.29 roboflow\n",
    "from IPython import display\n",
    "display.clear_output()"
   ]
  },
  {
   "cell_type": "code",
   "execution_count": null,
   "metadata": {
    "id": "fidMW4ouU3uh"
   },
   "outputs": [],
   "source": [
    "import ultralytics, os, shutil\n",
    "import matplotlib.pyplot as plt\n",
    "import pandas as pd\n",
    "import pytz\n",
    "from pathlib import Path\n",
    "from datetime import datetime\n",
    "from IPython.display import Image\n",
    "\n",
    "from ultralytics import YOLO\n",
    "from roboflow import Roboflow"
   ]
  },
  {
   "cell_type": "code",
   "execution_count": null,
   "metadata": {
    "colab": {
     "base_uri": "https://localhost:8080/"
    },
    "id": "03ZdUFDzTFdd",
    "outputId": "ddee0f57-361c-44c1-c87d-79781f56a687"
   },
   "outputs": [],
   "source": [
    "ultralytics.checks()"
   ]
  },
  {
   "cell_type": "code",
   "execution_count": null,
   "metadata": {
    "id": "CjpPg4mGKc1v"
   },
   "outputs": [],
   "source": [
    "HOME = os.getcwd()"
   ]
  },
  {
   "cell_type": "code",
   "execution_count": null,
   "metadata": {
    "colab": {
     "base_uri": "https://localhost:8080/"
    },
    "id": "BSd93ZJzZZKt",
    "outputId": "b55fe5c8-1fb9-45a5-fce1-630d39a3717d"
   },
   "outputs": [],
   "source": [
    "!mkdir {HOME}/datasets\n",
    "%cd {HOME}/datasets\n",
    "\n",
    "rf = Roboflow(api_key=api_key) \n",
    "project = rf.workspace(\"uld-ttkny\").project(project_name)\n",
    "dataset = project.version(version).download(\"yolov8\")"
   ]
  },
  {
   "cell_type": "markdown",
   "metadata": {
    "id": "YUjFBKKqXa-u"
   },
   "source": [
    "## Train"
   ]
  },
  {
   "cell_type": "code",
   "execution_count": null,
   "metadata": {
    "colab": {
     "base_uri": "https://localhost:8080/",
     "height": 1000,
     "referenced_widgets": [
      "a50b1f6680d84fa39a38ceb2e159eaef",
      "3865846b8a034765ba6414c340c04f86",
      "75d7e99d0b8045318db7ee57ddca8295",
      "895c3172f621403598c5aa4297509eef",
      "7036a9438d7046f28a0cf654dd4f2ee3",
      "e9811834acc34948b14b8ba7d1090964",
      "642a28070c574090a13a67c076440913",
      "733936de97ff455282813fc4e5c18f03",
      "b691f475681d4b4783dbfc10c7ff0b2f",
      "8087d6ec78314ff686a094e15e0f9db8",
      "47ae4e40598944edab0e691e3e11cf22",
      "d3ec2ac917c643c4923c08d19bd13056",
      "1e0aed2216af4dd6818ecaba33b9f44a",
      "59c99a609e904bcaabe40900de900a84",
      "b8c6cb3ac2144f2595ce4cdafaa7b916",
      "17b52ae4a27b4ca38933f46d30c00c96",
      "39abc3a7ebcd4f1d8e98d92a6b6626cb",
      "29cf49ddc4884f6f8da64638f3b11e41",
      "58ee8b8157d94ac7aa9243aa7142af7d",
      "955a5aaca6064f98b83d0e04c17c6536",
      "cb67f35bd8564754ae7f8d6f7ee90d4f",
      "aaf1ca57b2d04b328a60eba30bc3fb33"
     ]
    },
    "id": "cpvwtmP1EOJ4",
    "outputId": "3e7a6da3-ba6b-43ca-808e-38972d477c1c"
   },
   "outputs": [],
   "source": [
    "%cd {HOME}\n",
    "\n",
    "model=YOLO(yolo_pretrained_model)\n",
    "model.train(task=task,data=os.path.join(dataset.location,\"data.yaml\"),epochs=epochs,imgsz=640)"
   ]
  },
  {
   "cell_type": "code",
   "execution_count": null,
   "metadata": {
    "colab": {
     "base_uri": "https://localhost:8080/",
     "height": 35
    },
    "id": "uDBlu_1ZVR5G",
    "outputId": "4bdda48b-dbc8-43a4-e9df-524bcc239492"
   },
   "outputs": [],
   "source": [
    "#Copy best.pt to google drive\n",
    "\n",
    "dt_now=datetime.now().astimezone(pytz.timezone('Asia/Singapore')).strftime(\"%Y%m%d-%H%M%S\")\n",
    "fn=f\"{task}_{yolo_pretrained_model.split('.')[0]}_{epochs}epochs_{project_name}_v{version}_{dt_now}\"\n",
    "\n",
    "shutil.copy(f\"/content/runs/{task}/train/weights/best.pt\",\n",
    "            f\"/content/gdrive/MyDrive/ULD/{fn}.pt\")\n",
    "\n",
    "#Copy performance metrics of best.pt to google drive\n",
    "\n",
    "shutil.copy(f\"/content/runs/{task}/train/results.csv\",\n",
    "            f\"/content/gdrive/MyDrive/ULD/results_{fn}.csv\")"
   ]
  },
  {
   "cell_type": "code",
   "execution_count": null,
   "metadata": {
    "id": "AptIrketSeI2"
   },
   "outputs": [],
   "source": [
    "##### TRY TO EXPORT\n",
    "model.export(format=\"torchscript\",optimize=\"True\")"
   ]
  },
  {
   "cell_type": "markdown",
   "metadata": {
    "id": "1c-YynmpTZrJ"
   },
   "source": [
    "Look at train directory created"
   ]
  },
  {
   "cell_type": "code",
   "execution_count": null,
   "metadata": {
    "colab": {
     "base_uri": "https://localhost:8080/"
    },
    "id": "1MScstfHhArr",
    "outputId": "9e274e88-5b54-4ac5-9701-cd973ee6c425"
   },
   "outputs": [],
   "source": [
    "!ls {HOME}/runs/{task}/train/"
   ]
  },
  {
   "cell_type": "markdown",
   "metadata": {
    "id": "nuLU4soyTdmJ"
   },
   "source": [
    "Look at confusion matrix of train."
   ]
  },
  {
   "cell_type": "code",
   "execution_count": null,
   "metadata": {
    "colab": {
     "base_uri": "https://localhost:8080/"
    },
    "id": "_J35i8Ofhjxa",
    "outputId": "db6c73f6-60c0-48bb-f5b7-6a205f278adb"
   },
   "outputs": [],
   "source": [
    "%cd {HOME}\n",
    "try:\n",
    "  Image(filename=f'{HOME}/runs/{task}/train/confusion_matrix.png', width=600)\n",
    "except:\n",
    "  pass"
   ]
  },
  {
   "cell_type": "code",
   "execution_count": null,
   "metadata": {
    "id": "NVTs1R1Efm6h"
   },
   "outputs": [],
   "source": [
    "#adapted from YOLOv5\n",
    "\n",
    "def plot_results(file='path/to/results.csv', dir=''):\n",
    "    # Plot training results.csv. Usage: from utils.plots import *; plot_results('path/to/results.csv')\n",
    "    save_dir = Path(file).parent if file else Path(dir)\n",
    "    fig, ax = plt.subplots(2, 5, figsize=(12, 6), tight_layout=True)\n",
    "    ax = ax.ravel()\n",
    "    files = list(save_dir.glob('results*.csv'))\n",
    "    assert len(files), f'No results.csv files found in {save_dir.resolve()}, nothing to plot.'\n",
    "    for f in files:\n",
    "        try:\n",
    "            data = pd.read_csv(f)\n",
    "            s = [x.strip() for x in data.columns]\n",
    "            x = data.values[:, 0]\n",
    "            for i, j in enumerate([1, 2, 3, 4, 5, 8, 9, 10, 6, 7]):\n",
    "                y = data.values[:, j].astype('float')\n",
    "                # y[y == 0] = np.nan  # don't show zero values\n",
    "                ax[i].plot(x, y, marker='.', label=f.stem, linewidth=2, markersize=8)\n",
    "                ax[i].set_title(s[j], fontsize=12)\n",
    "                # if j in [8, 9, 10]:  # share train and val loss y axes\n",
    "                #     ax[i].get_shared_y_axes().join(ax[i], ax[i - 5])\n",
    "        except Exception as e:\n",
    "            print(f'Warning: Plotting error for {f}: {e}')\n",
    "    ax[1].legend()\n",
    "    fig.savefig(save_dir / 'results.png', dpi=200)\n",
    "    plt.close()"
   ]
  },
  {
   "cell_type": "markdown",
   "metadata": {
    "id": "YVVwONqkTm8q"
   },
   "source": [
    "Show training performance"
   ]
  },
  {
   "cell_type": "code",
   "execution_count": null,
   "metadata": {
    "colab": {
     "base_uri": "https://localhost:8080/",
     "height": 494
    },
    "id": "ZYWirHoXOqFn",
    "outputId": "31d5b486-a24b-43f5-c17f-92bf351f0bb8"
   },
   "outputs": [],
   "source": [
    "plot_results(f'{HOME}/runs/{task}/train/results.csv')\n",
    "Image(filename=f'{HOME}/runs/{task}/train/results.png', width=1000)"
   ]
  },
  {
   "cell_type": "markdown",
   "metadata": {
    "id": "fGUHH57yTpaq"
   },
   "source": [
    "Show some training segmentation results images."
   ]
  },
  {
   "cell_type": "code",
   "execution_count": null,
   "metadata": {
    "colab": {
     "base_uri": "https://localhost:8080/"
    },
    "id": "HI4nADCCj3F5",
    "outputId": "a7efebe8-398a-4639-ba20-ea45abea39e3"
   },
   "outputs": [],
   "source": [
    "%cd {HOME}\n",
    "try:\n",
    "  Image(filename=f'{HOME}/runs/{task}/train/val_batch0_pred.jpg', width=1000)\n",
    "except:\n",
    "  pass"
   ]
  },
  {
   "cell_type": "markdown",
   "metadata": {
    "id": "i4eASbcWkQBq"
   },
   "source": [
    "## Inference"
   ]
  },
  {
   "cell_type": "code",
   "execution_count": null,
   "metadata": {
    "colab": {
     "base_uri": "https://localhost:8080/"
    },
    "id": "SK7wSY_kGikP",
    "outputId": "3d69fd42-fa59-471e-c942-9bb869be7892"
   },
   "outputs": [],
   "source": [
    "%cd {HOME}\n",
    "\n",
    "model = YOLO(os.path.join(HOME,\"runs\",task,\"train\",\"weights\",\"best.pt\"))\n",
    "_=model.predict(task=task,source=os.path.join(dataset.location,\"test\",\"images\"), save_crop=True)"
   ]
  },
  {
   "cell_type": "markdown",
   "metadata": {
    "id": "tDZ7LLNdUcyD"
   },
   "source": [
    "Look at the images."
   ]
  },
  {
   "cell_type": "code",
   "execution_count": null,
   "metadata": {
    "colab": {
     "base_uri": "https://localhost:8080/",
     "height": 1000
    },
    "id": "jbVjEtPAkz3j",
    "outputId": "720be63a-9f42-4cdc-c8cc-04d4e75300cf"
   },
   "outputs": [],
   "source": [
    "import glob\n",
    "from IPython.display import Image, display\n",
    "\n",
    "for image_path in glob.glob(f'{HOME}/runs/{task}/predict/crops/Raised/*.jpg'):\n",
    "      display(Image(filename=image_path, height=300))\n",
    "      print(\"\\n\")"
   ]
  },
  {
   "cell_type": "code",
   "execution_count": null,
   "metadata": {
    "id": "w2DTSzA_sXQk"
   },
   "outputs": [],
   "source": []
  }
 ],
 "metadata": {
  "accelerator": "GPU",
  "colab": {
   "include_colab_link": true,
   "provenance": []
  },
  "gpuClass": "premium",
  "kernelspec": {
   "display_name": "Python 3 (ipykernel)",
   "language": "python",
   "name": "python3"
  },
  "language_info": {
   "codemirror_mode": {
    "name": "ipython",
    "version": 3
   },
   "file_extension": ".py",
   "mimetype": "text/x-python",
   "name": "python",
   "nbconvert_exporter": "python",
   "pygments_lexer": "ipython3",
   "version": "3.9.12"
  },
  "widgets": {
   "application/vnd.jupyter.widget-state+json": {
    "17b52ae4a27b4ca38933f46d30c00c96": {
     "model_module": "@jupyter-widgets/base",
     "model_module_version": "1.2.0",
     "model_name": "LayoutModel",
     "state": {
      "_model_module": "@jupyter-widgets/base",
      "_model_module_version": "1.2.0",
      "_model_name": "LayoutModel",
      "_view_count": null,
      "_view_module": "@jupyter-widgets/base",
      "_view_module_version": "1.2.0",
      "_view_name": "LayoutView",
      "align_content": null,
      "align_items": null,
      "align_self": null,
      "border": null,
      "bottom": null,
      "display": null,
      "flex": null,
      "flex_flow": null,
      "grid_area": null,
      "grid_auto_columns": null,
      "grid_auto_flow": null,
      "grid_auto_rows": null,
      "grid_column": null,
      "grid_gap": null,
      "grid_row": null,
      "grid_template_areas": null,
      "grid_template_columns": null,
      "grid_template_rows": null,
      "height": null,
      "justify_content": null,
      "justify_items": null,
      "left": null,
      "margin": null,
      "max_height": null,
      "max_width": null,
      "min_height": null,
      "min_width": null,
      "object_fit": null,
      "object_position": null,
      "order": null,
      "overflow": null,
      "overflow_x": null,
      "overflow_y": null,
      "padding": null,
      "right": null,
      "top": null,
      "visibility": null,
      "width": null
     }
    },
    "1e0aed2216af4dd6818ecaba33b9f44a": {
     "model_module": "@jupyter-widgets/controls",
     "model_module_version": "1.5.0",
     "model_name": "HTMLModel",
     "state": {
      "_dom_classes": [],
      "_model_module": "@jupyter-widgets/controls",
      "_model_module_version": "1.5.0",
      "_model_name": "HTMLModel",
      "_view_count": null,
      "_view_module": "@jupyter-widgets/controls",
      "_view_module_version": "1.5.0",
      "_view_name": "HTMLView",
      "description": "",
      "description_tooltip": null,
      "layout": "IPY_MODEL_39abc3a7ebcd4f1d8e98d92a6b6626cb",
      "placeholder": "​",
      "style": "IPY_MODEL_29cf49ddc4884f6f8da64638f3b11e41",
      "value": "100%"
     }
    },
    "29cf49ddc4884f6f8da64638f3b11e41": {
     "model_module": "@jupyter-widgets/controls",
     "model_module_version": "1.5.0",
     "model_name": "DescriptionStyleModel",
     "state": {
      "_model_module": "@jupyter-widgets/controls",
      "_model_module_version": "1.5.0",
      "_model_name": "DescriptionStyleModel",
      "_view_count": null,
      "_view_module": "@jupyter-widgets/base",
      "_view_module_version": "1.2.0",
      "_view_name": "StyleView",
      "description_width": ""
     }
    },
    "3865846b8a034765ba6414c340c04f86": {
     "model_module": "@jupyter-widgets/controls",
     "model_module_version": "1.5.0",
     "model_name": "HTMLModel",
     "state": {
      "_dom_classes": [],
      "_model_module": "@jupyter-widgets/controls",
      "_model_module_version": "1.5.0",
      "_model_name": "HTMLModel",
      "_view_count": null,
      "_view_module": "@jupyter-widgets/controls",
      "_view_module_version": "1.5.0",
      "_view_name": "HTMLView",
      "description": "",
      "description_tooltip": null,
      "layout": "IPY_MODEL_e9811834acc34948b14b8ba7d1090964",
      "placeholder": "​",
      "style": "IPY_MODEL_642a28070c574090a13a67c076440913",
      "value": "100%"
     }
    },
    "39abc3a7ebcd4f1d8e98d92a6b6626cb": {
     "model_module": "@jupyter-widgets/base",
     "model_module_version": "1.2.0",
     "model_name": "LayoutModel",
     "state": {
      "_model_module": "@jupyter-widgets/base",
      "_model_module_version": "1.2.0",
      "_model_name": "LayoutModel",
      "_view_count": null,
      "_view_module": "@jupyter-widgets/base",
      "_view_module_version": "1.2.0",
      "_view_name": "LayoutView",
      "align_content": null,
      "align_items": null,
      "align_self": null,
      "border": null,
      "bottom": null,
      "display": null,
      "flex": null,
      "flex_flow": null,
      "grid_area": null,
      "grid_auto_columns": null,
      "grid_auto_flow": null,
      "grid_auto_rows": null,
      "grid_column": null,
      "grid_gap": null,
      "grid_row": null,
      "grid_template_areas": null,
      "grid_template_columns": null,
      "grid_template_rows": null,
      "height": null,
      "justify_content": null,
      "justify_items": null,
      "left": null,
      "margin": null,
      "max_height": null,
      "max_width": null,
      "min_height": null,
      "min_width": null,
      "object_fit": null,
      "object_position": null,
      "order": null,
      "overflow": null,
      "overflow_x": null,
      "overflow_y": null,
      "padding": null,
      "right": null,
      "top": null,
      "visibility": null,
      "width": null
     }
    },
    "47ae4e40598944edab0e691e3e11cf22": {
     "model_module": "@jupyter-widgets/controls",
     "model_module_version": "1.5.0",
     "model_name": "DescriptionStyleModel",
     "state": {
      "_model_module": "@jupyter-widgets/controls",
      "_model_module_version": "1.5.0",
      "_model_name": "DescriptionStyleModel",
      "_view_count": null,
      "_view_module": "@jupyter-widgets/base",
      "_view_module_version": "1.2.0",
      "_view_name": "StyleView",
      "description_width": ""
     }
    },
    "58ee8b8157d94ac7aa9243aa7142af7d": {
     "model_module": "@jupyter-widgets/base",
     "model_module_version": "1.2.0",
     "model_name": "LayoutModel",
     "state": {
      "_model_module": "@jupyter-widgets/base",
      "_model_module_version": "1.2.0",
      "_model_name": "LayoutModel",
      "_view_count": null,
      "_view_module": "@jupyter-widgets/base",
      "_view_module_version": "1.2.0",
      "_view_name": "LayoutView",
      "align_content": null,
      "align_items": null,
      "align_self": null,
      "border": null,
      "bottom": null,
      "display": null,
      "flex": null,
      "flex_flow": null,
      "grid_area": null,
      "grid_auto_columns": null,
      "grid_auto_flow": null,
      "grid_auto_rows": null,
      "grid_column": null,
      "grid_gap": null,
      "grid_row": null,
      "grid_template_areas": null,
      "grid_template_columns": null,
      "grid_template_rows": null,
      "height": null,
      "justify_content": null,
      "justify_items": null,
      "left": null,
      "margin": null,
      "max_height": null,
      "max_width": null,
      "min_height": null,
      "min_width": null,
      "object_fit": null,
      "object_position": null,
      "order": null,
      "overflow": null,
      "overflow_x": null,
      "overflow_y": null,
      "padding": null,
      "right": null,
      "top": null,
      "visibility": null,
      "width": null
     }
    },
    "59c99a609e904bcaabe40900de900a84": {
     "model_module": "@jupyter-widgets/controls",
     "model_module_version": "1.5.0",
     "model_name": "FloatProgressModel",
     "state": {
      "_dom_classes": [],
      "_model_module": "@jupyter-widgets/controls",
      "_model_module_version": "1.5.0",
      "_model_name": "FloatProgressModel",
      "_view_count": null,
      "_view_module": "@jupyter-widgets/controls",
      "_view_module_version": "1.5.0",
      "_view_name": "ProgressView",
      "bar_style": "success",
      "description": "",
      "description_tooltip": null,
      "layout": "IPY_MODEL_58ee8b8157d94ac7aa9243aa7142af7d",
      "max": 773236,
      "min": 0,
      "orientation": "horizontal",
      "style": "IPY_MODEL_955a5aaca6064f98b83d0e04c17c6536",
      "value": 773236
     }
    },
    "642a28070c574090a13a67c076440913": {
     "model_module": "@jupyter-widgets/controls",
     "model_module_version": "1.5.0",
     "model_name": "DescriptionStyleModel",
     "state": {
      "_model_module": "@jupyter-widgets/controls",
      "_model_module_version": "1.5.0",
      "_model_name": "DescriptionStyleModel",
      "_view_count": null,
      "_view_module": "@jupyter-widgets/base",
      "_view_module_version": "1.2.0",
      "_view_name": "StyleView",
      "description_width": ""
     }
    },
    "7036a9438d7046f28a0cf654dd4f2ee3": {
     "model_module": "@jupyter-widgets/base",
     "model_module_version": "1.2.0",
     "model_name": "LayoutModel",
     "state": {
      "_model_module": "@jupyter-widgets/base",
      "_model_module_version": "1.2.0",
      "_model_name": "LayoutModel",
      "_view_count": null,
      "_view_module": "@jupyter-widgets/base",
      "_view_module_version": "1.2.0",
      "_view_name": "LayoutView",
      "align_content": null,
      "align_items": null,
      "align_self": null,
      "border": null,
      "bottom": null,
      "display": null,
      "flex": null,
      "flex_flow": null,
      "grid_area": null,
      "grid_auto_columns": null,
      "grid_auto_flow": null,
      "grid_auto_rows": null,
      "grid_column": null,
      "grid_gap": null,
      "grid_row": null,
      "grid_template_areas": null,
      "grid_template_columns": null,
      "grid_template_rows": null,
      "height": null,
      "justify_content": null,
      "justify_items": null,
      "left": null,
      "margin": null,
      "max_height": null,
      "max_width": null,
      "min_height": null,
      "min_width": null,
      "object_fit": null,
      "object_position": null,
      "order": null,
      "overflow": null,
      "overflow_x": null,
      "overflow_y": null,
      "padding": null,
      "right": null,
      "top": null,
      "visibility": null,
      "width": null
     }
    },
    "733936de97ff455282813fc4e5c18f03": {
     "model_module": "@jupyter-widgets/base",
     "model_module_version": "1.2.0",
     "model_name": "LayoutModel",
     "state": {
      "_model_module": "@jupyter-widgets/base",
      "_model_module_version": "1.2.0",
      "_model_name": "LayoutModel",
      "_view_count": null,
      "_view_module": "@jupyter-widgets/base",
      "_view_module_version": "1.2.0",
      "_view_name": "LayoutView",
      "align_content": null,
      "align_items": null,
      "align_self": null,
      "border": null,
      "bottom": null,
      "display": null,
      "flex": null,
      "flex_flow": null,
      "grid_area": null,
      "grid_auto_columns": null,
      "grid_auto_flow": null,
      "grid_auto_rows": null,
      "grid_column": null,
      "grid_gap": null,
      "grid_row": null,
      "grid_template_areas": null,
      "grid_template_columns": null,
      "grid_template_rows": null,
      "height": null,
      "justify_content": null,
      "justify_items": null,
      "left": null,
      "margin": null,
      "max_height": null,
      "max_width": null,
      "min_height": null,
      "min_width": null,
      "object_fit": null,
      "object_position": null,
      "order": null,
      "overflow": null,
      "overflow_x": null,
      "overflow_y": null,
      "padding": null,
      "right": null,
      "top": null,
      "visibility": null,
      "width": null
     }
    },
    "75d7e99d0b8045318db7ee57ddca8295": {
     "model_module": "@jupyter-widgets/controls",
     "model_module_version": "1.5.0",
     "model_name": "FloatProgressModel",
     "state": {
      "_dom_classes": [],
      "_model_module": "@jupyter-widgets/controls",
      "_model_module_version": "1.5.0",
      "_model_name": "FloatProgressModel",
      "_view_count": null,
      "_view_module": "@jupyter-widgets/controls",
      "_view_module_version": "1.5.0",
      "_view_name": "ProgressView",
      "bar_style": "success",
      "description": "",
      "description_tooltip": null,
      "layout": "IPY_MODEL_733936de97ff455282813fc4e5c18f03",
      "max": 6534387,
      "min": 0,
      "orientation": "horizontal",
      "style": "IPY_MODEL_b691f475681d4b4783dbfc10c7ff0b2f",
      "value": 6534387
     }
    },
    "8087d6ec78314ff686a094e15e0f9db8": {
     "model_module": "@jupyter-widgets/base",
     "model_module_version": "1.2.0",
     "model_name": "LayoutModel",
     "state": {
      "_model_module": "@jupyter-widgets/base",
      "_model_module_version": "1.2.0",
      "_model_name": "LayoutModel",
      "_view_count": null,
      "_view_module": "@jupyter-widgets/base",
      "_view_module_version": "1.2.0",
      "_view_name": "LayoutView",
      "align_content": null,
      "align_items": null,
      "align_self": null,
      "border": null,
      "bottom": null,
      "display": null,
      "flex": null,
      "flex_flow": null,
      "grid_area": null,
      "grid_auto_columns": null,
      "grid_auto_flow": null,
      "grid_auto_rows": null,
      "grid_column": null,
      "grid_gap": null,
      "grid_row": null,
      "grid_template_areas": null,
      "grid_template_columns": null,
      "grid_template_rows": null,
      "height": null,
      "justify_content": null,
      "justify_items": null,
      "left": null,
      "margin": null,
      "max_height": null,
      "max_width": null,
      "min_height": null,
      "min_width": null,
      "object_fit": null,
      "object_position": null,
      "order": null,
      "overflow": null,
      "overflow_x": null,
      "overflow_y": null,
      "padding": null,
      "right": null,
      "top": null,
      "visibility": null,
      "width": null
     }
    },
    "895c3172f621403598c5aa4297509eef": {
     "model_module": "@jupyter-widgets/controls",
     "model_module_version": "1.5.0",
     "model_name": "HTMLModel",
     "state": {
      "_dom_classes": [],
      "_model_module": "@jupyter-widgets/controls",
      "_model_module_version": "1.5.0",
      "_model_name": "HTMLModel",
      "_view_count": null,
      "_view_module": "@jupyter-widgets/controls",
      "_view_module_version": "1.5.0",
      "_view_name": "HTMLView",
      "description": "",
      "description_tooltip": null,
      "layout": "IPY_MODEL_8087d6ec78314ff686a094e15e0f9db8",
      "placeholder": "​",
      "style": "IPY_MODEL_47ae4e40598944edab0e691e3e11cf22",
      "value": " 6.23M/6.23M [00:01&lt;00:00, 4.36MB/s]"
     }
    },
    "955a5aaca6064f98b83d0e04c17c6536": {
     "model_module": "@jupyter-widgets/controls",
     "model_module_version": "1.5.0",
     "model_name": "ProgressStyleModel",
     "state": {
      "_model_module": "@jupyter-widgets/controls",
      "_model_module_version": "1.5.0",
      "_model_name": "ProgressStyleModel",
      "_view_count": null,
      "_view_module": "@jupyter-widgets/base",
      "_view_module_version": "1.2.0",
      "_view_name": "StyleView",
      "bar_color": null,
      "description_width": ""
     }
    },
    "a50b1f6680d84fa39a38ceb2e159eaef": {
     "model_module": "@jupyter-widgets/controls",
     "model_module_version": "1.5.0",
     "model_name": "HBoxModel",
     "state": {
      "_dom_classes": [],
      "_model_module": "@jupyter-widgets/controls",
      "_model_module_version": "1.5.0",
      "_model_name": "HBoxModel",
      "_view_count": null,
      "_view_module": "@jupyter-widgets/controls",
      "_view_module_version": "1.5.0",
      "_view_name": "HBoxView",
      "box_style": "",
      "children": [
       "IPY_MODEL_3865846b8a034765ba6414c340c04f86",
       "IPY_MODEL_75d7e99d0b8045318db7ee57ddca8295",
       "IPY_MODEL_895c3172f621403598c5aa4297509eef"
      ],
      "layout": "IPY_MODEL_7036a9438d7046f28a0cf654dd4f2ee3"
     }
    },
    "aaf1ca57b2d04b328a60eba30bc3fb33": {
     "model_module": "@jupyter-widgets/controls",
     "model_module_version": "1.5.0",
     "model_name": "DescriptionStyleModel",
     "state": {
      "_model_module": "@jupyter-widgets/controls",
      "_model_module_version": "1.5.0",
      "_model_name": "DescriptionStyleModel",
      "_view_count": null,
      "_view_module": "@jupyter-widgets/base",
      "_view_module_version": "1.2.0",
      "_view_name": "StyleView",
      "description_width": ""
     }
    },
    "b691f475681d4b4783dbfc10c7ff0b2f": {
     "model_module": "@jupyter-widgets/controls",
     "model_module_version": "1.5.0",
     "model_name": "ProgressStyleModel",
     "state": {
      "_model_module": "@jupyter-widgets/controls",
      "_model_module_version": "1.5.0",
      "_model_name": "ProgressStyleModel",
      "_view_count": null,
      "_view_module": "@jupyter-widgets/base",
      "_view_module_version": "1.2.0",
      "_view_name": "StyleView",
      "bar_color": null,
      "description_width": ""
     }
    },
    "b8c6cb3ac2144f2595ce4cdafaa7b916": {
     "model_module": "@jupyter-widgets/controls",
     "model_module_version": "1.5.0",
     "model_name": "HTMLModel",
     "state": {
      "_dom_classes": [],
      "_model_module": "@jupyter-widgets/controls",
      "_model_module_version": "1.5.0",
      "_model_name": "HTMLModel",
      "_view_count": null,
      "_view_module": "@jupyter-widgets/controls",
      "_view_module_version": "1.5.0",
      "_view_name": "HTMLView",
      "description": "",
      "description_tooltip": null,
      "layout": "IPY_MODEL_cb67f35bd8564754ae7f8d6f7ee90d4f",
      "placeholder": "​",
      "style": "IPY_MODEL_aaf1ca57b2d04b328a60eba30bc3fb33",
      "value": " 755k/755k [00:00&lt;00:00, 18.9MB/s]"
     }
    },
    "cb67f35bd8564754ae7f8d6f7ee90d4f": {
     "model_module": "@jupyter-widgets/base",
     "model_module_version": "1.2.0",
     "model_name": "LayoutModel",
     "state": {
      "_model_module": "@jupyter-widgets/base",
      "_model_module_version": "1.2.0",
      "_model_name": "LayoutModel",
      "_view_count": null,
      "_view_module": "@jupyter-widgets/base",
      "_view_module_version": "1.2.0",
      "_view_name": "LayoutView",
      "align_content": null,
      "align_items": null,
      "align_self": null,
      "border": null,
      "bottom": null,
      "display": null,
      "flex": null,
      "flex_flow": null,
      "grid_area": null,
      "grid_auto_columns": null,
      "grid_auto_flow": null,
      "grid_auto_rows": null,
      "grid_column": null,
      "grid_gap": null,
      "grid_row": null,
      "grid_template_areas": null,
      "grid_template_columns": null,
      "grid_template_rows": null,
      "height": null,
      "justify_content": null,
      "justify_items": null,
      "left": null,
      "margin": null,
      "max_height": null,
      "max_width": null,
      "min_height": null,
      "min_width": null,
      "object_fit": null,
      "object_position": null,
      "order": null,
      "overflow": null,
      "overflow_x": null,
      "overflow_y": null,
      "padding": null,
      "right": null,
      "top": null,
      "visibility": null,
      "width": null
     }
    },
    "d3ec2ac917c643c4923c08d19bd13056": {
     "model_module": "@jupyter-widgets/controls",
     "model_module_version": "1.5.0",
     "model_name": "HBoxModel",
     "state": {
      "_dom_classes": [],
      "_model_module": "@jupyter-widgets/controls",
      "_model_module_version": "1.5.0",
      "_model_name": "HBoxModel",
      "_view_count": null,
      "_view_module": "@jupyter-widgets/controls",
      "_view_module_version": "1.5.0",
      "_view_name": "HBoxView",
      "box_style": "",
      "children": [
       "IPY_MODEL_1e0aed2216af4dd6818ecaba33b9f44a",
       "IPY_MODEL_59c99a609e904bcaabe40900de900a84",
       "IPY_MODEL_b8c6cb3ac2144f2595ce4cdafaa7b916"
      ],
      "layout": "IPY_MODEL_17b52ae4a27b4ca38933f46d30c00c96"
     }
    },
    "e9811834acc34948b14b8ba7d1090964": {
     "model_module": "@jupyter-widgets/base",
     "model_module_version": "1.2.0",
     "model_name": "LayoutModel",
     "state": {
      "_model_module": "@jupyter-widgets/base",
      "_model_module_version": "1.2.0",
      "_model_name": "LayoutModel",
      "_view_count": null,
      "_view_module": "@jupyter-widgets/base",
      "_view_module_version": "1.2.0",
      "_view_name": "LayoutView",
      "align_content": null,
      "align_items": null,
      "align_self": null,
      "border": null,
      "bottom": null,
      "display": null,
      "flex": null,
      "flex_flow": null,
      "grid_area": null,
      "grid_auto_columns": null,
      "grid_auto_flow": null,
      "grid_auto_rows": null,
      "grid_column": null,
      "grid_gap": null,
      "grid_row": null,
      "grid_template_areas": null,
      "grid_template_columns": null,
      "grid_template_rows": null,
      "height": null,
      "justify_content": null,
      "justify_items": null,
      "left": null,
      "margin": null,
      "max_height": null,
      "max_width": null,
      "min_height": null,
      "min_width": null,
      "object_fit": null,
      "object_position": null,
      "order": null,
      "overflow": null,
      "overflow_x": null,
      "overflow_y": null,
      "padding": null,
      "right": null,
      "top": null,
      "visibility": null,
      "width": null
     }
    }
   }
  }
 },
 "nbformat": 4,
 "nbformat_minor": 1
}
