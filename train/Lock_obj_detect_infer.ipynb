{
 "cells": [
  {
   "cell_type": "markdown",
   "metadata": {
    "colab_type": "text",
    "id": "view-in-github"
   },
   "source": [
    "<a href=\"https://colab.research.google.com/github/garyfoohw/GA_ULD_detection/blob/main/Lock_obj_detect_notrain.ipynb\" target=\"_parent\"><img src=\"https://colab.research.google.com/assets/colab-badge.svg\" alt=\"Open In Colab\"/></a>"
   ]
  },
  {
   "cell_type": "code",
   "execution_count": null,
   "metadata": {
    "id": "CuOnhcAbiFMs"
   },
   "outputs": [],
   "source": [
    "#paramters\n",
    "task = \"detect\" #'segment' for instance segmentation, 'detect' for object detection\n",
    "modelfile=\"detect_yolov8n_100epochs_uld_locks_cropped_v3_20230203-153304.pt\"\n",
    "source_zip=\"raw_cropped_uld_images.zip\"\n",
    "\n",
    "min_confidence_treshold=0.25\n",
    "save_crop_images=False\n",
    "save_original_with_bounding_box=True\n",
    "save_bounding_box_data=True"
   ]
  },
  {
   "cell_type": "code",
   "execution_count": null,
   "metadata": {
    "id": "yXdkPTfdZfX7"
   },
   "outputs": [],
   "source": [
    "from google.colab import drive, files\n",
    "drive.mount('/content/gdrive')     "
   ]
  },
  {
   "cell_type": "code",
   "execution_count": null,
   "metadata": {
    "id": "Y8cDtxLIBHgQ"
   },
   "outputs": [],
   "source": [
    "!nvidia-smi"
   ]
  },
  {
   "cell_type": "code",
   "execution_count": null,
   "metadata": {
    "id": "1895I3HmiHer"
   },
   "outputs": [],
   "source": [
    "!pip install ultralytics==8.0.29 roboflow\n",
    "from IPython import display\n",
    "display.clear_output()"
   ]
  },
  {
   "cell_type": "code",
   "execution_count": null,
   "metadata": {
    "id": "fidMW4ouU3uh"
   },
   "outputs": [],
   "source": [
    "import ultralytics, os, shutil, pytz\n",
    "from pathlib import Path\n",
    "from datetime import datetime\n",
    "from IPython.display import Image, display\n",
    "from ultralytics import YOLO\n",
    "from roboflow import Roboflow\n",
    "import matplotlib.pyplot as plt\n",
    "import pandas as pd\n",
    "import glob"
   ]
  },
  {
   "cell_type": "code",
   "execution_count": null,
   "metadata": {
    "id": "CjpPg4mGKc1v"
   },
   "outputs": [],
   "source": [
    "ultralytics.checks()"
   ]
  },
  {
   "cell_type": "code",
   "execution_count": null,
   "metadata": {
    "id": "E4S4khCNiKnE"
   },
   "outputs": [],
   "source": [
    "HOME = os.getcwd()"
   ]
  },
  {
   "cell_type": "markdown",
   "metadata": {
    "id": "i4eASbcWkQBq"
   },
   "source": [
    "## Inference with Custom Model"
   ]
  },
  {
   "cell_type": "code",
   "execution_count": null,
   "metadata": {
    "id": "Ol18IG9EGimn"
   },
   "outputs": [],
   "source": [
    "%cd {HOME}"
   ]
  },
  {
   "cell_type": "code",
   "execution_count": null,
   "metadata": {
    "id": "mdzOsHKNN6a_"
   },
   "outputs": [],
   "source": [
    "!unzip -u {HOME}/gdrive/MyDrive/ULD/{source_zip} -d {HOME}/raw_cropped_uld_images/"
   ]
  },
  {
   "cell_type": "code",
   "execution_count": null,
   "metadata": {
    "id": "SK7wSY_kGikP"
   },
   "outputs": [],
   "source": [
    "model = YOLO(os.path.join(HOME,\"gdrive\",\"MyDrive\",\"ULD\",modelfile))\n",
    "_=model.predict(task=task,source=os.path.join(HOME,\"raw_cropped_uld_images\"),\n",
    "                save_crop=save_crop_images,\n",
    "                conf=min_confidence_treshold,\n",
    "                save=save_original_with_bounding_box,\n",
    "                save_txt=save_bounding_box_data)"
   ]
  },
  {
   "cell_type": "code",
   "execution_count": null,
   "metadata": {
    "id": "ZcNQ8cKCZn27"
   },
   "outputs": [],
   "source": [
    "fn=modelfile.split('.')[0]\n",
    "!zip -r /{HOME}/gdrive/MyDrive/ULD/run_results/download_{fn}.zip  /{HOME}/runs/{task}/predict/\n",
    "\n",
    "print(f\"File saved to Google Drive: {fn}.zip\")     "
   ]
  },
  {
   "cell_type": "code",
   "execution_count": null,
   "metadata": {
    "id": "jbVjEtPAkz3j"
   },
   "outputs": [],
   "source": [
    "for image_path in glob.glob(f'{HOME}/runs/{task}/predict/crops/Raised/*.jpg')[:5]:\n",
    "      display(Image(filename=image_path, height=300))\n",
    "      print(\"\\n\")"
   ]
  },
  {
   "cell_type": "code",
   "execution_count": null,
   "metadata": {
    "id": "NShaJdsSQbNR"
   },
   "outputs": [],
   "source": [
    "for image_path in glob.glob(f'{HOME}/runs/{task}/predict/*.jpg')[:5]:\n",
    "      display(Image(filename=image_path, height=300))\n",
    "      print(\"\\n\")"
   ]
  },
  {
   "cell_type": "code",
   "execution_count": null,
   "metadata": {
    "id": "1HTMxlVdRkot"
   },
   "outputs": [],
   "source": []
  }
 ],
 "metadata": {
  "accelerator": "GPU",
  "colab": {
   "include_colab_link": true,
   "provenance": []
  },
  "gpuClass": "premium",
  "kernelspec": {
   "display_name": "Python 3 (ipykernel)",
   "language": "python",
   "name": "python3"
  },
  "language_info": {
   "codemirror_mode": {
    "name": "ipython",
    "version": 3
   },
   "file_extension": ".py",
   "mimetype": "text/x-python",
   "name": "python",
   "nbconvert_exporter": "python",
   "pygments_lexer": "ipython3",
   "version": "3.9.12"
  }
 },
 "nbformat": 4,
 "nbformat_minor": 1
}
