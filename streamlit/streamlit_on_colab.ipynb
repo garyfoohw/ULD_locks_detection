{
  "cells": [
    {
      "cell_type": "markdown",
      "metadata": {
        "id": "view-in-github",
        "colab_type": "text"
      },
      "source": [
        "<a href=\"https://colab.research.google.com/github/garyfoohw/ULD_locks_detection/blob/master/streamlit/streamlit_on_colab.ipynb\" target=\"_parent\"><img src=\"https://colab.research.google.com/assets/colab-badge.svg\" alt=\"Open In Colab\"/></a>"
      ]
    },
    {
      "cell_type": "code",
      "execution_count": null,
      "metadata": {
        "id": "NONsidXfr_Vq"
      },
      "outputs": [],
      "source": [
        "import os\n",
        "from IPython import display\n",
        "\n",
        "HOME = os.getcwd()"
      ]
    },
    {
      "cell_type": "markdown",
      "metadata": {
        "id": "Fajk8OrhtbnB"
      },
      "source": [
        "## Step 1"
      ]
    },
    {
      "cell_type": "markdown",
      "metadata": {
        "id": "f1zwXgV31yCT"
      },
      "source": [
        "We'll clone a helper library that will help in setting up SSH key with Github.  \n",
        "This step is only needed because our repo is private.  \n",
        "If repo is public, then this step is not needed. Skip to Step 2.\n",
        "\n",
        "After you run the cell below, there will be 3 prompts. Make sure to hit 'Enter' without keying in any input."
      ]
    },
    {
      "cell_type": "code",
      "execution_count": null,
      "metadata": {
        "id": "e8cfkQtMrNK9"
      },
      "outputs": [],
      "source": [
        "!git clone https://github.com/SadiaAfrinPurba/google-colab-ssh.git\n",
        "%cd {HOME}/google-colab-ssh/scripts\n",
        "!sh private_repo_clone.sh \"email@email.com\" \"Your Name Here\""
      ]
    },
    {
      "cell_type": "markdown",
      "metadata": {
        "id": "7hSHXBegzyE3"
      },
      "source": [
        "Copy the entire SSH key and create new SSH Key in Github at this point before continuing.\n",
        "\n",
        "Copy:\n",
        "\n",
        "`ssh-rsa xxxxxxxxx`\n",
        "\n",
        "https://github.com/settings/keys"
      ]
    },
    {
      "cell_type": "code",
      "execution_count": null,
      "metadata": {
        "id": "K7hSKnrGnG5u"
      },
      "outputs": [],
      "source": [
        "#test the SSH key\n",
        "!ssh -T git@github.com"
      ]
    },
    {
      "cell_type": "markdown",
      "metadata": {
        "id": "UeZ4n1WhtbnE"
      },
      "source": [
        "## Step 2"
      ]
    },
    {
      "cell_type": "code",
      "execution_count": null,
      "metadata": {
        "id": "KrNueSSunhk_"
      },
      "outputs": [],
      "source": [
        "# navigate to home directory and clone the streamlit app\n",
        "%cd {HOME}\n",
        "!git clone git@github.com:garyfoohw/ULD_locks_detection.git"
      ]
    },
    {
      "cell_type": "code",
      "execution_count": null,
      "metadata": {
        "id": "hcbBQ6LMoqg7"
      },
      "outputs": [],
      "source": [
        "#navigate into the streamlit folder and find the requirements.txt for pip install\n",
        "%cd {HOME}/ULD_locks_detection/streamlit\n",
        "!pip install -r requirements.txt\n",
        "\n",
        "display.clear_output()"
      ]
    },
    {
      "cell_type": "code",
      "execution_count": null,
      "metadata": {
        "id": "_Q1yPXqWxUvq"
      },
      "outputs": [],
      "source": [
        "#run the streamlit app.\n",
        "#the external URL will look like xxx-yyy-zzz.loca.lt\n",
        "\n",
        "%cd {HOME}/ULD_locks_detection/streamlit\n",
        "!streamlit run main.py & npx localtunnel --port 8501"
      ]
    }
  ],
  "metadata": {
    "accelerator": "GPU",
    "colab": {
      "provenance": [],
      "include_colab_link": true
    },
    "gpuClass": "standard",
    "kernelspec": {
      "display_name": "Python 3 (ipykernel)",
      "language": "python",
      "name": "python3"
    },
    "language_info": {
      "codemirror_mode": {
        "name": "ipython",
        "version": 3
      },
      "file_extension": ".py",
      "mimetype": "text/x-python",
      "name": "python",
      "nbconvert_exporter": "python",
      "pygments_lexer": "ipython3",
      "version": "3.9.12"
    }
  },
  "nbformat": 4,
  "nbformat_minor": 0
}